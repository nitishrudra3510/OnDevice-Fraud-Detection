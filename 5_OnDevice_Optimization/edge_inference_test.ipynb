{
  "cells": [
    {
      "cell_type": "code",
      "execution_count": null,
      "metadata": {},
      "outputs": [],
      "source": [
        "import numpy as np\n",
        "import tensorflow as tf\n",
        "from pathlib import Path\n",
        "\n",
        "bundle = Path(__file__).resolve().parents[1] / 'deploy_bundle'\n",
        "models_dir = bundle / 'models'\n",
        "\n",
        "# Load TFLite model (autoencoder example)\n",
        "interpreter = tf.lite.Interpreter(model_path=str(models_dir / 'app_usage_autoencoder_fp32.tflite'))\n",
        "interpreter.allocate_tensors()\n",
        "input_details = interpreter.get_input_details()\n",
        "output_details = interpreter.get_output_details()\n",
        "\n",
        "# Dummy input\n",
        "x = np.random.rand(1, 5).astype('float32')\n",
        "interpreter.set_tensor(input_details[0]['index'], x)\n",
        "interpreter.invoke()\n",
        "output = interpreter.get_tensor(output_details[0]['index'])\n",
        "print('TFLite output shape:', output.shape)\n"
      ]
    }
  ],
  "metadata": {
    "language_info": {
      "name": "python"
    }
  },
  "nbformat": 4,
  "nbformat_minor": 2
}
